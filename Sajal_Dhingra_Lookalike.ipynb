{
 "cells": [
  {
   "cell_type": "code",
   "execution_count": 10,
   "metadata": {},
   "outputs": [],
   "source": [
    "import pandas as pd\n",
    "from sklearn.metrics.pairwise import cosine_similarity\n",
    "from sklearn.preprocessing import StandardScaler"
   ]
  },
  {
   "cell_type": "code",
   "execution_count": 11,
   "metadata": {},
   "outputs": [],
   "source": [
    "customers = pd.read_csv('Customers.csv')\n",
    "products = pd.read_csv('Products.csv')\n",
    "transactions = pd.read_csv('Transactions.csv')"
   ]
  },
  {
   "cell_type": "code",
   "execution_count": 12,
   "metadata": {},
   "outputs": [],
   "source": [
    "merged = transactions.merge(customers, on='CustomerID', how='left').merge(products, on='ProductID', how='left')"
   ]
  },
  {
   "cell_type": "code",
   "execution_count": null,
   "metadata": {},
   "outputs": [],
   "source": [
    "customer_features = merged.groupby('CustomerID').agg(\n",
    "    TotalSpending=('TotalValue', 'sum'),\n",
    "    AvgSpending=('TotalValue', 'mean'),\n",
    "    TransactionCount=('TransactionID', 'count'),\n",
    "    PreferredCategory=('Category', lambda x: x.mode()[0]),  \n",
    "    Region=('Region', 'first')       \n",
    ").reset_index()"
   ]
  },
  {
   "cell_type": "code",
   "execution_count": 15,
   "metadata": {},
   "outputs": [],
   "source": [
    "customer_features = pd.get_dummies(customer_features, columns=['PreferredCategory', 'Region'], drop_first=True)\n",
    "\n",
    "scaler = StandardScaler()\n",
    "customer_features_scaled = scaler.fit_transform(customer_features.drop(['CustomerID'], axis=1))"
   ]
  },
  {
   "cell_type": "code",
   "execution_count": 16,
   "metadata": {},
   "outputs": [],
   "source": [
    "def recommend_similar_customers(input_customer_id, top_n=3):\n",
    "    input_customer_index = customer_features[customer_features['CustomerID'] == input_customer_id].index[0]\n",
    "    input_customer_vector = customer_features_scaled[input_customer_index].reshape(1, -1)\n",
    "    similarity_scores = cosine_similarity(input_customer_vector, customer_features_scaled).flatten()\n",
    "    customer_features['SimilarityScore'] = similarity_scores\n",
    "    recommendations = customer_features[customer_features['CustomerID'] != input_customer_id].sort_values(\n",
    "        by='SimilarityScore', ascending=False\n",
    "    )\n",
    "    return recommendations[['CustomerID', 'SimilarityScore']].head(top_n)"
   ]
  },
  {
   "cell_type": "markdown",
   "metadata": {},
   "source": [
    "#### example of the code"
   ]
  },
  {
   "cell_type": "code",
   "execution_count": 17,
   "metadata": {},
   "outputs": [
    {
     "name": "stdout",
     "output_type": "stream",
     "text": [
      "    CustomerID  SimilarityScore\n",
      "188      C0190         0.990302\n",
      "47       C0048         0.982489\n",
      "179      C0181         0.970571\n"
     ]
    }
   ],
   "source": [
    "input_customer_id = \"C0001\" \n",
    "top_3_customers = recommend_similar_customers(input_customer_id, top_n=3)\n",
    "print(top_3_customers)"
   ]
  },
  {
   "cell_type": "code",
   "execution_count": 23,
   "metadata": {},
   "outputs": [],
   "source": [
    "lookalike_map = {}\n",
    "for cust_id in customers['CustomerID'][:20]:\n",
    "    recommendations = recommend_similar_customers(cust_id, top_n=3)\n",
    "    lookalike_map[cust_id] = [(row.CustomerID, row.SimilarityScore) for row in recommendations.itertuples()]"
   ]
  },
  {
   "cell_type": "code",
   "execution_count": 29,
   "metadata": {},
   "outputs": [],
   "source": [
    "lookalike_list = []\n",
    "for cust_id, matches in lookalike_map.items():\n",
    "    lookalike_list.append({\"CustomerID\": cust_id, \"Most Similar\": str(matches)})"
   ]
  },
  {
   "cell_type": "code",
   "execution_count": 30,
   "metadata": {},
   "outputs": [],
   "source": [
    "lookalike_df = pd.DataFrame(lookalike_list)\n"
   ]
  },
  {
   "cell_type": "code",
   "execution_count": 31,
   "metadata": {},
   "outputs": [],
   "source": [
    "lookalike_df.to_csv('Lookalike.csv', index=False)"
   ]
  },
  {
   "cell_type": "code",
   "execution_count": null,
   "metadata": {},
   "outputs": [],
   "source": []
  }
 ],
 "metadata": {
  "kernelspec": {
   "display_name": "Python 3",
   "language": "python",
   "name": "python3"
  },
  "language_info": {
   "codemirror_mode": {
    "name": "ipython",
    "version": 3
   },
   "file_extension": ".py",
   "mimetype": "text/x-python",
   "name": "python",
   "nbconvert_exporter": "python",
   "pygments_lexer": "ipython3",
   "version": "3.11.2"
  }
 },
 "nbformat": 4,
 "nbformat_minor": 2
}
